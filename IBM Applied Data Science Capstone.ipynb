{
 "cells": [
  {
   "cell_type": "markdown",
   "metadata": {},
   "source": [
    "# This notebook will be mainly used for the capstone project"
   ]
  },
  {
   "cell_type": "markdown",
   "metadata": {},
   "source": [
    "## Introduction"
   ]
  },
  {
   "cell_type": "markdown",
   "metadata": {},
   "source": [
    "Because of the population increase, there are more and more car drivers appears making the road traffic become more complicated. This leads to increase the car incident rate. So, In this project, I would like to study the relationship among level of severity of car incidents  and factors such as weather,  number of vehicles involved in the collision, the drivers are drunk or not, and so on. after this project, we can know about when should we pay more attention when driving to decrease the car incident.\n",
    "\n",
    "And my aimed target audiances are all different types of drivers around the world"
   ]
  },
  {
   "cell_type": "markdown",
   "metadata": {},
   "source": [
    "## Data Understaning"
   ]
  },
  {
   "cell_type": "markdown",
   "metadata": {},
   "source": [
    "The dataset is about the collision records during 2004 to present.\n",
    "it has total 38 columns in the dataset but some of them may not useful for the prediction. Also, there is labeled data called SEVERITYCODE. Therefore, there are total 37 attributes and 1 labeled data. So we do not explain all of them in details. The under are the description of the data all we need in this project.\n",
    "In addiction, some attributes have missing data and categorical types of data that we need to dealing with them in the data-preprocessing stage.\n",
    "\n",
    "\n",
    "The labeled data:\n",
    "SEVERITYCODE : corresponds to the severity of thecollision\n",
    "\n",
    "• 3—fatality\n",
    "\n",
    "• 2b—serious injury\n",
    "\n",
    "• 2—injury\n",
    "\n",
    "• 1—prop damage\n",
    "\n",
    "• 0—unknown\n",
    "\n",
    "\n",
    "Attributes:\n",
    "OBJECTID: ObjectID ESRI unique identifier \n",
    "\n",
    "ADDRTYPE: Collision address type\n",
    "\n",
    "SEVERITYDESC: A detailed description of the severity of the collision\n",
    "\n",
    "COLLISIONTYPE: Collision type\n",
    "\n",
    "INATTENTIONIND: Whether or not collision was due to inattention.(Y/N)\n",
    "\n",
    "UNDERINFL:Whether or not a driver involved was under the influence of drugs or alcohol.\n",
    "\n",
    "SPEEDING: Whether or not speeding was a factor in the collision.(Y/N)\n",
    "\n",
    "WEATHER: A description of the weather conditions during the time of the collision.\n",
    "\n",
    "ROADCOND: The condition of the road during the collision. \n",
    "\n",
    "and so on...\n",
    "\n",
    "For futher attribute information, please go to the under link\n",
    "https://s3.us.cloud-object-storage.appdomain.cloud/cf-courses-data/CognitiveClass/DP0701EN/version-2/Metadata.pdf"
   ]
  },
  {
   "cell_type": "code",
   "execution_count": 232,
   "metadata": {},
   "outputs": [
    {
     "name": "stdout",
     "output_type": "stream",
     "text": [
      "Hello Capstone Project Course!\n"
     ]
    }
   ],
   "source": [
    "import pandas as pd\n",
    "import numpy as np\n",
    "import matplotlib.pyplot as plt\n",
    "import seaborn as sns\n",
    "import warnings\n",
    "warnings.filterwarnings('ignore')\n",
    "print('Hello Capstone Project Course!')\n"
   ]
  },
  {
   "cell_type": "markdown",
   "metadata": {},
   "source": [
    "## General Infomation of the data frame"
   ]
  },
  {
   "cell_type": "code",
   "execution_count": 233,
   "metadata": {},
   "outputs": [],
   "source": [
    "df = pd.read_csv(r'C:\\Users\\user\\Downloads\\Data-Collisions.csv')"
   ]
  },
  {
   "cell_type": "code",
   "execution_count": 234,
   "metadata": {},
   "outputs": [
    {
     "name": "stdout",
     "output_type": "stream",
     "text": [
      "<class 'pandas.core.frame.DataFrame'>\n",
      "RangeIndex: 194673 entries, 0 to 194672\n",
      "Data columns (total 38 columns):\n",
      " #   Column          Non-Null Count   Dtype  \n",
      "---  ------          --------------   -----  \n",
      " 0   SEVERITYCODE    194673 non-null  int64  \n",
      " 1   X               189339 non-null  float64\n",
      " 2   Y               189339 non-null  float64\n",
      " 3   OBJECTID        194673 non-null  int64  \n",
      " 4   INCKEY          194673 non-null  int64  \n",
      " 5   COLDETKEY       194673 non-null  int64  \n",
      " 6   REPORTNO        194673 non-null  object \n",
      " 7   STATUS          194673 non-null  object \n",
      " 8   ADDRTYPE        192747 non-null  object \n",
      " 9   INTKEY          65070 non-null   float64\n",
      " 10  LOCATION        191996 non-null  object \n",
      " 11  EXCEPTRSNCODE   84811 non-null   object \n",
      " 12  EXCEPTRSNDESC   5638 non-null    object \n",
      " 13  SEVERITYCODE.1  194673 non-null  int64  \n",
      " 14  SEVERITYDESC    194673 non-null  object \n",
      " 15  COLLISIONTYPE   189769 non-null  object \n",
      " 16  PERSONCOUNT     194673 non-null  int64  \n",
      " 17  PEDCOUNT        194673 non-null  int64  \n",
      " 18  PEDCYLCOUNT     194673 non-null  int64  \n",
      " 19  VEHCOUNT        194673 non-null  int64  \n",
      " 20  INCDATE         194673 non-null  object \n",
      " 21  INCDTTM         194673 non-null  object \n",
      " 22  JUNCTIONTYPE    188344 non-null  object \n",
      " 23  SDOT_COLCODE    194673 non-null  int64  \n",
      " 24  SDOT_COLDESC    194673 non-null  object \n",
      " 25  INATTENTIONIND  29805 non-null   object \n",
      " 26  UNDERINFL       189789 non-null  object \n",
      " 27  WEATHER         189592 non-null  object \n",
      " 28  ROADCOND        189661 non-null  object \n",
      " 29  LIGHTCOND       189503 non-null  object \n",
      " 30  PEDROWNOTGRNT   4667 non-null    object \n",
      " 31  SDOTCOLNUM      114936 non-null  float64\n",
      " 32  SPEEDING        9333 non-null    object \n",
      " 33  ST_COLCODE      194655 non-null  object \n",
      " 34  ST_COLDESC      189769 non-null  object \n",
      " 35  SEGLANEKEY      194673 non-null  int64  \n",
      " 36  CROSSWALKKEY    194673 non-null  int64  \n",
      " 37  HITPARKEDCAR    194673 non-null  object \n",
      "dtypes: float64(4), int64(12), object(22)\n",
      "memory usage: 56.4+ MB\n"
     ]
    }
   ],
   "source": [
    "df.info()"
   ]
  },
  {
   "cell_type": "code",
   "execution_count": 235,
   "metadata": {
    "scrolled": true
   },
   "outputs": [
    {
     "data": {
      "text/html": [
       "<div>\n",
       "<style scoped>\n",
       "    .dataframe tbody tr th:only-of-type {\n",
       "        vertical-align: middle;\n",
       "    }\n",
       "\n",
       "    .dataframe tbody tr th {\n",
       "        vertical-align: top;\n",
       "    }\n",
       "\n",
       "    .dataframe thead th {\n",
       "        text-align: right;\n",
       "    }\n",
       "</style>\n",
       "<table border=\"1\" class=\"dataframe\">\n",
       "  <thead>\n",
       "    <tr style=\"text-align: right;\">\n",
       "      <th></th>\n",
       "      <th>SEVERITYCODE</th>\n",
       "      <th>X</th>\n",
       "      <th>Y</th>\n",
       "      <th>OBJECTID</th>\n",
       "      <th>INCKEY</th>\n",
       "      <th>COLDETKEY</th>\n",
       "      <th>REPORTNO</th>\n",
       "      <th>STATUS</th>\n",
       "      <th>ADDRTYPE</th>\n",
       "      <th>INTKEY</th>\n",
       "      <th>...</th>\n",
       "      <th>ROADCOND</th>\n",
       "      <th>LIGHTCOND</th>\n",
       "      <th>PEDROWNOTGRNT</th>\n",
       "      <th>SDOTCOLNUM</th>\n",
       "      <th>SPEEDING</th>\n",
       "      <th>ST_COLCODE</th>\n",
       "      <th>ST_COLDESC</th>\n",
       "      <th>SEGLANEKEY</th>\n",
       "      <th>CROSSWALKKEY</th>\n",
       "      <th>HITPARKEDCAR</th>\n",
       "    </tr>\n",
       "  </thead>\n",
       "  <tbody>\n",
       "    <tr>\n",
       "      <th>0</th>\n",
       "      <td>2</td>\n",
       "      <td>-122.323148</td>\n",
       "      <td>47.703140</td>\n",
       "      <td>1</td>\n",
       "      <td>1307</td>\n",
       "      <td>1307</td>\n",
       "      <td>3502005</td>\n",
       "      <td>Matched</td>\n",
       "      <td>Intersection</td>\n",
       "      <td>37475.0</td>\n",
       "      <td>...</td>\n",
       "      <td>Wet</td>\n",
       "      <td>Daylight</td>\n",
       "      <td>NaN</td>\n",
       "      <td>NaN</td>\n",
       "      <td>NaN</td>\n",
       "      <td>10</td>\n",
       "      <td>Entering at angle</td>\n",
       "      <td>0</td>\n",
       "      <td>0</td>\n",
       "      <td>N</td>\n",
       "    </tr>\n",
       "    <tr>\n",
       "      <th>1</th>\n",
       "      <td>1</td>\n",
       "      <td>-122.347294</td>\n",
       "      <td>47.647172</td>\n",
       "      <td>2</td>\n",
       "      <td>52200</td>\n",
       "      <td>52200</td>\n",
       "      <td>2607959</td>\n",
       "      <td>Matched</td>\n",
       "      <td>Block</td>\n",
       "      <td>NaN</td>\n",
       "      <td>...</td>\n",
       "      <td>Wet</td>\n",
       "      <td>Dark - Street Lights On</td>\n",
       "      <td>NaN</td>\n",
       "      <td>6354039.0</td>\n",
       "      <td>NaN</td>\n",
       "      <td>11</td>\n",
       "      <td>From same direction - both going straight - bo...</td>\n",
       "      <td>0</td>\n",
       "      <td>0</td>\n",
       "      <td>N</td>\n",
       "    </tr>\n",
       "    <tr>\n",
       "      <th>2</th>\n",
       "      <td>1</td>\n",
       "      <td>-122.334540</td>\n",
       "      <td>47.607871</td>\n",
       "      <td>3</td>\n",
       "      <td>26700</td>\n",
       "      <td>26700</td>\n",
       "      <td>1482393</td>\n",
       "      <td>Matched</td>\n",
       "      <td>Block</td>\n",
       "      <td>NaN</td>\n",
       "      <td>...</td>\n",
       "      <td>Dry</td>\n",
       "      <td>Daylight</td>\n",
       "      <td>NaN</td>\n",
       "      <td>4323031.0</td>\n",
       "      <td>NaN</td>\n",
       "      <td>32</td>\n",
       "      <td>One parked--one moving</td>\n",
       "      <td>0</td>\n",
       "      <td>0</td>\n",
       "      <td>N</td>\n",
       "    </tr>\n",
       "    <tr>\n",
       "      <th>3</th>\n",
       "      <td>1</td>\n",
       "      <td>-122.334803</td>\n",
       "      <td>47.604803</td>\n",
       "      <td>4</td>\n",
       "      <td>1144</td>\n",
       "      <td>1144</td>\n",
       "      <td>3503937</td>\n",
       "      <td>Matched</td>\n",
       "      <td>Block</td>\n",
       "      <td>NaN</td>\n",
       "      <td>...</td>\n",
       "      <td>Dry</td>\n",
       "      <td>Daylight</td>\n",
       "      <td>NaN</td>\n",
       "      <td>NaN</td>\n",
       "      <td>NaN</td>\n",
       "      <td>23</td>\n",
       "      <td>From same direction - all others</td>\n",
       "      <td>0</td>\n",
       "      <td>0</td>\n",
       "      <td>N</td>\n",
       "    </tr>\n",
       "    <tr>\n",
       "      <th>4</th>\n",
       "      <td>2</td>\n",
       "      <td>-122.306426</td>\n",
       "      <td>47.545739</td>\n",
       "      <td>5</td>\n",
       "      <td>17700</td>\n",
       "      <td>17700</td>\n",
       "      <td>1807429</td>\n",
       "      <td>Matched</td>\n",
       "      <td>Intersection</td>\n",
       "      <td>34387.0</td>\n",
       "      <td>...</td>\n",
       "      <td>Wet</td>\n",
       "      <td>Daylight</td>\n",
       "      <td>NaN</td>\n",
       "      <td>4028032.0</td>\n",
       "      <td>NaN</td>\n",
       "      <td>10</td>\n",
       "      <td>Entering at angle</td>\n",
       "      <td>0</td>\n",
       "      <td>0</td>\n",
       "      <td>N</td>\n",
       "    </tr>\n",
       "  </tbody>\n",
       "</table>\n",
       "<p>5 rows × 38 columns</p>\n",
       "</div>"
      ],
      "text/plain": [
       "   SEVERITYCODE           X          Y  OBJECTID  INCKEY  COLDETKEY REPORTNO  \\\n",
       "0             2 -122.323148  47.703140         1    1307       1307  3502005   \n",
       "1             1 -122.347294  47.647172         2   52200      52200  2607959   \n",
       "2             1 -122.334540  47.607871         3   26700      26700  1482393   \n",
       "3             1 -122.334803  47.604803         4    1144       1144  3503937   \n",
       "4             2 -122.306426  47.545739         5   17700      17700  1807429   \n",
       "\n",
       "    STATUS      ADDRTYPE   INTKEY  ... ROADCOND                LIGHTCOND  \\\n",
       "0  Matched  Intersection  37475.0  ...      Wet                 Daylight   \n",
       "1  Matched         Block      NaN  ...      Wet  Dark - Street Lights On   \n",
       "2  Matched         Block      NaN  ...      Dry                 Daylight   \n",
       "3  Matched         Block      NaN  ...      Dry                 Daylight   \n",
       "4  Matched  Intersection  34387.0  ...      Wet                 Daylight   \n",
       "\n",
       "  PEDROWNOTGRNT  SDOTCOLNUM SPEEDING ST_COLCODE  \\\n",
       "0           NaN         NaN      NaN         10   \n",
       "1           NaN   6354039.0      NaN         11   \n",
       "2           NaN   4323031.0      NaN         32   \n",
       "3           NaN         NaN      NaN         23   \n",
       "4           NaN   4028032.0      NaN         10   \n",
       "\n",
       "                                          ST_COLDESC  SEGLANEKEY  \\\n",
       "0                                  Entering at angle           0   \n",
       "1  From same direction - both going straight - bo...           0   \n",
       "2                             One parked--one moving           0   \n",
       "3                   From same direction - all others           0   \n",
       "4                                  Entering at angle           0   \n",
       "\n",
       "   CROSSWALKKEY  HITPARKEDCAR  \n",
       "0             0             N  \n",
       "1             0             N  \n",
       "2             0             N  \n",
       "3             0             N  \n",
       "4             0             N  \n",
       "\n",
       "[5 rows x 38 columns]"
      ]
     },
     "execution_count": 235,
     "metadata": {},
     "output_type": "execute_result"
    }
   ],
   "source": [
    "df.head()"
   ]
  },
  {
   "cell_type": "code",
   "execution_count": 236,
   "metadata": {},
   "outputs": [
    {
     "data": {
      "text/plain": [
       "(194673, 38)"
      ]
     },
     "execution_count": 236,
     "metadata": {},
     "output_type": "execute_result"
    }
   ],
   "source": [
    "df.shape"
   ]
  },
  {
   "cell_type": "markdown",
   "metadata": {},
   "source": [
    "## Data Cleaning"
   ]
  },
  {
   "cell_type": "markdown",
   "metadata": {},
   "source": [
    "### Drop the irrelevant features and unique IDs"
   ]
  },
  {
   "cell_type": "code",
   "execution_count": 237,
   "metadata": {},
   "outputs": [],
   "source": [
    "# Drop the irrelevant features\n",
    "# Drop the irrelevant unique IDs\n",
    "\n",
    "df.drop(['OBJECTID','EXCEPTRSNDESC','EXCEPTRSNCODE','INTKEY','X','Y',\n",
    "         'SDOTCOLNUM','INCDATE','INCDTTM','SEGLANEKEY','CROSSWALKKEY',\n",
    "        'LOCATION','ST_COLDESC','SDOT_COLDESC','INCKEY','COLDETKEY','REPORTNO',\n",
    "        'STATUS','SEVERITYCODE.1', 'PERSONCOUNT', 'PEDCOUNT', 'PEDCYLCOUNT'],axis=1,inplace=True)\n",
    "df.drop(['ADDRTYPE', 'SEVERITYDESC', 'COLLISIONTYPE'],axis=1,inplace=True)\n",
    "df.drop(['PEDROWNOTGRNT'],axis = 1, inplace=True)\n"
   ]
  },
  {
   "cell_type": "markdown",
   "metadata": {},
   "source": [
    "### Drop the Unknown index"
   ]
  },
  {
   "cell_type": "code",
   "execution_count": 238,
   "metadata": {},
   "outputs": [],
   "source": [
    "# df[df['COL_NAME'] == 'XXXXX'].index => get the index from the column by specific values\n",
    "# df_actual = df_actual[df_actual.ROADCOND != 'Unknown']\n",
    "\n",
    "df.drop(index=(df[df['LIGHTCOND'] == 'Unknown'].index), axis = 0, inplace = True)\n",
    "df.drop(index=(df[df['JUNCTIONTYPE'] == 'Unknown'].index), axis = 0, inplace = True)\n",
    "df.drop(index=(df[df['WEATHER'] == 'Unknown'].index), axis = 0,inplace = True)\n",
    "df.drop(index=(df[df['ROADCOND'] == 'Unknown'].index), axis = 0, inplace = True)\n"
   ]
  },
  {
   "cell_type": "markdown",
   "metadata": {},
   "source": [
    "### Dealing with the null values"
   ]
  },
  {
   "cell_type": "code",
   "execution_count": 239,
   "metadata": {},
   "outputs": [
    {
     "data": {
      "text/html": [
       "<div>\n",
       "<style scoped>\n",
       "    .dataframe tbody tr th:only-of-type {\n",
       "        vertical-align: middle;\n",
       "    }\n",
       "\n",
       "    .dataframe tbody tr th {\n",
       "        vertical-align: top;\n",
       "    }\n",
       "\n",
       "    .dataframe thead th {\n",
       "        text-align: right;\n",
       "    }\n",
       "</style>\n",
       "<table border=\"1\" class=\"dataframe\">\n",
       "  <thead>\n",
       "    <tr style=\"text-align: right;\">\n",
       "      <th></th>\n",
       "      <th>Number of Null</th>\n",
       "      <th>Percentage of Null</th>\n",
       "    </tr>\n",
       "    <tr>\n",
       "      <th>Features</th>\n",
       "      <th></th>\n",
       "      <th></th>\n",
       "    </tr>\n",
       "  </thead>\n",
       "  <tbody>\n",
       "    <tr>\n",
       "      <th>SPEEDING</th>\n",
       "      <td>166608</td>\n",
       "      <td>0.947913</td>\n",
       "    </tr>\n",
       "    <tr>\n",
       "      <th>INATTENTIONIND</th>\n",
       "      <td>147081</td>\n",
       "      <td>0.836814</td>\n",
       "    </tr>\n",
       "    <tr>\n",
       "      <th>LIGHTCOND</th>\n",
       "      <td>5119</td>\n",
       "      <td>0.029124</td>\n",
       "    </tr>\n",
       "    <tr>\n",
       "      <th>WEATHER</th>\n",
       "      <td>5065</td>\n",
       "      <td>0.028817</td>\n",
       "    </tr>\n",
       "    <tr>\n",
       "      <th>ROADCOND</th>\n",
       "      <td>4993</td>\n",
       "      <td>0.028408</td>\n",
       "    </tr>\n",
       "    <tr>\n",
       "      <th>UNDERINFL</th>\n",
       "      <td>4882</td>\n",
       "      <td>0.027776</td>\n",
       "    </tr>\n",
       "    <tr>\n",
       "      <th>JUNCTIONTYPE</th>\n",
       "      <td>2676</td>\n",
       "      <td>0.015225</td>\n",
       "    </tr>\n",
       "    <tr>\n",
       "      <th>ST_COLCODE</th>\n",
       "      <td>16</td>\n",
       "      <td>0.000091</td>\n",
       "    </tr>\n",
       "    <tr>\n",
       "      <th>HITPARKEDCAR</th>\n",
       "      <td>0</td>\n",
       "      <td>0.000000</td>\n",
       "    </tr>\n",
       "    <tr>\n",
       "      <th>SDOT_COLCODE</th>\n",
       "      <td>0</td>\n",
       "      <td>0.000000</td>\n",
       "    </tr>\n",
       "    <tr>\n",
       "      <th>VEHCOUNT</th>\n",
       "      <td>0</td>\n",
       "      <td>0.000000</td>\n",
       "    </tr>\n",
       "    <tr>\n",
       "      <th>SEVERITYCODE</th>\n",
       "      <td>0</td>\n",
       "      <td>0.000000</td>\n",
       "    </tr>\n",
       "  </tbody>\n",
       "</table>\n",
       "</div>"
      ],
      "text/plain": [
       "                Number of Null  Percentage of Null\n",
       "Features                                          \n",
       "SPEEDING                166608            0.947913\n",
       "INATTENTIONIND          147081            0.836814\n",
       "LIGHTCOND                 5119            0.029124\n",
       "WEATHER                   5065            0.028817\n",
       "ROADCOND                  4993            0.028408\n",
       "UNDERINFL                 4882            0.027776\n",
       "JUNCTIONTYPE              2676            0.015225\n",
       "ST_COLCODE                  16            0.000091\n",
       "HITPARKEDCAR                 0            0.000000\n",
       "SDOT_COLCODE                 0            0.000000\n",
       "VEHCOUNT                     0            0.000000\n",
       "SEVERITYCODE                 0            0.000000"
      ]
     },
     "execution_count": 239,
     "metadata": {},
     "output_type": "execute_result"
    }
   ],
   "source": [
    "Features = df.columns\n",
    "num_of_null_by_cols = df.isnull().sum().sort_values(ascending=False)\n",
    "percentage_of_null_by_cols = (df.isnull().sum() / len(df)).sort_values(ascending=False)\n",
    "null_df = pd.DataFrame({'Number of Null': num_of_null_by_cols,\n",
    "                                'Percentage of Null':percentage_of_null_by_cols})\n",
    "null_df.index.name = 'Features'\n",
    "null_df"
   ]
  },
  {
   "cell_type": "code",
   "execution_count": 240,
   "metadata": {},
   "outputs": [],
   "source": [
    "#df['PEDROWNOTGRNT'].fillna('N',inplace = True)\n",
    "df['SPEEDING'].fillna('N',inplace = True)\n",
    "df['INATTENTIONIND'].fillna('N',inplace = True)"
   ]
  },
  {
   "cell_type": "code",
   "execution_count": 241,
   "metadata": {},
   "outputs": [],
   "source": [
    "# drop the particular missing item\n",
    "\n",
    "#df.drop(df[df['COLLISIONTYPE'].isnull()].index,inplace = True)\n",
    "#df.drop(df[df['ADDRTYPE'].isnull()].index,inplace = True)\n",
    "\n",
    "df.drop(df[df['JUNCTIONTYPE'].isnull()].index,inplace = True)\n",
    "df.drop(df[df['WEATHER'].isnull()].index,inplace = True)\n",
    "df.drop(df[df['ROADCOND'].isnull()].index,inplace = True)\n",
    "df.drop(df[df['UNDERINFL'].isnull()].index,inplace = True)\n",
    "df.drop(df[df['ST_COLCODE'].isnull()].index,inplace = True)\n",
    "df.drop(df[df['LIGHTCOND'].isnull()].index,inplace = True)\n"
   ]
  },
  {
   "cell_type": "code",
   "execution_count": 242,
   "metadata": {},
   "outputs": [
    {
     "data": {
      "text/plain": [
       "HITPARKEDCAR    0\n",
       "ST_COLCODE      0\n",
       "SPEEDING        0\n",
       "LIGHTCOND       0\n",
       "ROADCOND        0\n",
       "dtype: int64"
      ]
     },
     "execution_count": 242,
     "metadata": {},
     "output_type": "execute_result"
    }
   ],
   "source": [
    "df.isnull().sum().sort_values(ascending=False)[0:5]"
   ]
  },
  {
   "cell_type": "code",
   "execution_count": 243,
   "metadata": {},
   "outputs": [
    {
     "name": "stdout",
     "output_type": "stream",
     "text": [
      "<class 'pandas.core.frame.DataFrame'>\n",
      "Int64Index: 167981 entries, 0 to 194672\n",
      "Data columns (total 12 columns):\n",
      " #   Column          Non-Null Count   Dtype \n",
      "---  ------          --------------   ----- \n",
      " 0   SEVERITYCODE    167981 non-null  int64 \n",
      " 1   VEHCOUNT        167981 non-null  int64 \n",
      " 2   JUNCTIONTYPE    167981 non-null  object\n",
      " 3   SDOT_COLCODE    167981 non-null  int64 \n",
      " 4   INATTENTIONIND  167981 non-null  object\n",
      " 5   UNDERINFL       167981 non-null  object\n",
      " 6   WEATHER         167981 non-null  object\n",
      " 7   ROADCOND        167981 non-null  object\n",
      " 8   LIGHTCOND       167981 non-null  object\n",
      " 9   SPEEDING        167981 non-null  object\n",
      " 10  ST_COLCODE      167981 non-null  object\n",
      " 11  HITPARKEDCAR    167981 non-null  object\n",
      "dtypes: int64(3), object(9)\n",
      "memory usage: 16.7+ MB\n"
     ]
    }
   ],
   "source": [
    "df.info()"
   ]
  },
  {
   "cell_type": "markdown",
   "metadata": {},
   "source": [
    "### Feature Engineering"
   ]
  },
  {
   "cell_type": "code",
   "execution_count": 244,
   "metadata": {},
   "outputs": [
    {
     "name": "stdout",
     "output_type": "stream",
     "text": [
      "['N' 'Y']\n",
      "['N' 'Y']\n"
     ]
    }
   ],
   "source": [
    "print(df['INATTENTIONIND'].unique())\n",
    "print(df['SPEEDING'].unique())\n",
    "#print(df['HITPARKEDCAR'].unique())\n",
    "#print(df['PEDROWNOTGRNT'].unique())\n"
   ]
  },
  {
   "cell_type": "code",
   "execution_count": 245,
   "metadata": {},
   "outputs": [
    {
     "data": {
      "text/plain": [
       "array(['N', '0', '1', 'Y'], dtype=object)"
      ]
     },
     "execution_count": 245,
     "metadata": {},
     "output_type": "execute_result"
    }
   ],
   "source": [
    "df['UNDERINFL'].unique()"
   ]
  },
  {
   "cell_type": "code",
   "execution_count": 246,
   "metadata": {},
   "outputs": [],
   "source": [
    "# UNDERINFL: Whether or not a driver involved was under the influence of drugs or alcohol. \n",
    "# Since some of the rows in UNDERINFL has 'Y','N','0','1', \n",
    "# therefore I change the 'Y' and 'N' categories in UNDERINFL to '1' and '0'\n",
    "\n",
    "def encoding_underinfl(x):\n",
    "    if x == 'N' or x == '0': # The original data type values in UNDERINFL are string for '1' and '0'\n",
    "        return 0\n",
    "    if x == 'Y' or x == '1':\n",
    "        return 1\n",
    "\n",
    "df['UNDERINFL'] = df.UNDERINFL.apply(encoding_underinfl)\n"
   ]
  },
  {
   "cell_type": "code",
   "execution_count": 247,
   "metadata": {},
   "outputs": [
    {
     "data": {
      "text/plain": [
       "array([0, 1], dtype=int64)"
      ]
     },
     "execution_count": 247,
     "metadata": {},
     "output_type": "execute_result"
    }
   ],
   "source": [
    "df['UNDERINFL'].unique()"
   ]
  },
  {
   "cell_type": "code",
   "execution_count": 248,
   "metadata": {},
   "outputs": [
    {
     "data": {
      "text/plain": [
       "array(['N', 'Y'], dtype=object)"
      ]
     },
     "execution_count": 248,
     "metadata": {},
     "output_type": "execute_result"
    }
   ],
   "source": [
    "df['INATTENTIONIND'].unique()"
   ]
  },
  {
   "cell_type": "code",
   "execution_count": 249,
   "metadata": {},
   "outputs": [],
   "source": [
    "# For 'yes' or 'no' categories.\n",
    "def encoding_YESNO(x):\n",
    "    if x == 'N':\n",
    "        return 0\n",
    "    if x == 'Y':\n",
    "        return 1\n",
    "df['INATTENTIONIND'] = df.INATTENTIONIND.apply(encoding_YESNO)\n",
    "df['SPEEDING'] = df.SPEEDING.apply(encoding_YESNO)\n",
    "df['HITPARKEDCAR'] = df.HITPARKEDCAR.apply(encoding_YESNO)\n",
    "#df['PEDROWNOTGRNT'] = df.PEDROWNOTGRNT.apply(encoding_YESNO)\n"
   ]
  },
  {
   "cell_type": "code",
   "execution_count": 250,
   "metadata": {
    "scrolled": true
   },
   "outputs": [
    {
     "data": {
      "text/html": [
       "<div>\n",
       "<style scoped>\n",
       "    .dataframe tbody tr th:only-of-type {\n",
       "        vertical-align: middle;\n",
       "    }\n",
       "\n",
       "    .dataframe tbody tr th {\n",
       "        vertical-align: top;\n",
       "    }\n",
       "\n",
       "    .dataframe thead th {\n",
       "        text-align: right;\n",
       "    }\n",
       "</style>\n",
       "<table border=\"1\" class=\"dataframe\">\n",
       "  <thead>\n",
       "    <tr style=\"text-align: right;\">\n",
       "      <th></th>\n",
       "      <th>SEVERITYCODE</th>\n",
       "      <th>VEHCOUNT</th>\n",
       "      <th>JUNCTIONTYPE</th>\n",
       "      <th>SDOT_COLCODE</th>\n",
       "      <th>INATTENTIONIND</th>\n",
       "      <th>UNDERINFL</th>\n",
       "      <th>WEATHER</th>\n",
       "      <th>ROADCOND</th>\n",
       "      <th>LIGHTCOND</th>\n",
       "      <th>SPEEDING</th>\n",
       "      <th>ST_COLCODE</th>\n",
       "      <th>HITPARKEDCAR</th>\n",
       "    </tr>\n",
       "  </thead>\n",
       "  <tbody>\n",
       "    <tr>\n",
       "      <th>0</th>\n",
       "      <td>2</td>\n",
       "      <td>2</td>\n",
       "      <td>At Intersection (intersection related)</td>\n",
       "      <td>11</td>\n",
       "      <td>0</td>\n",
       "      <td>0</td>\n",
       "      <td>Overcast</td>\n",
       "      <td>Wet</td>\n",
       "      <td>Daylight</td>\n",
       "      <td>0</td>\n",
       "      <td>10</td>\n",
       "      <td>0</td>\n",
       "    </tr>\n",
       "    <tr>\n",
       "      <th>1</th>\n",
       "      <td>1</td>\n",
       "      <td>2</td>\n",
       "      <td>Mid-Block (not related to intersection)</td>\n",
       "      <td>16</td>\n",
       "      <td>0</td>\n",
       "      <td>0</td>\n",
       "      <td>Raining</td>\n",
       "      <td>Wet</td>\n",
       "      <td>Dark - Street Lights On</td>\n",
       "      <td>0</td>\n",
       "      <td>11</td>\n",
       "      <td>0</td>\n",
       "    </tr>\n",
       "    <tr>\n",
       "      <th>2</th>\n",
       "      <td>1</td>\n",
       "      <td>3</td>\n",
       "      <td>Mid-Block (not related to intersection)</td>\n",
       "      <td>14</td>\n",
       "      <td>0</td>\n",
       "      <td>0</td>\n",
       "      <td>Overcast</td>\n",
       "      <td>Dry</td>\n",
       "      <td>Daylight</td>\n",
       "      <td>0</td>\n",
       "      <td>32</td>\n",
       "      <td>0</td>\n",
       "    </tr>\n",
       "    <tr>\n",
       "      <th>3</th>\n",
       "      <td>1</td>\n",
       "      <td>3</td>\n",
       "      <td>Mid-Block (not related to intersection)</td>\n",
       "      <td>11</td>\n",
       "      <td>0</td>\n",
       "      <td>0</td>\n",
       "      <td>Clear</td>\n",
       "      <td>Dry</td>\n",
       "      <td>Daylight</td>\n",
       "      <td>0</td>\n",
       "      <td>23</td>\n",
       "      <td>0</td>\n",
       "    </tr>\n",
       "    <tr>\n",
       "      <th>4</th>\n",
       "      <td>2</td>\n",
       "      <td>2</td>\n",
       "      <td>At Intersection (intersection related)</td>\n",
       "      <td>11</td>\n",
       "      <td>0</td>\n",
       "      <td>0</td>\n",
       "      <td>Raining</td>\n",
       "      <td>Wet</td>\n",
       "      <td>Daylight</td>\n",
       "      <td>0</td>\n",
       "      <td>10</td>\n",
       "      <td>0</td>\n",
       "    </tr>\n",
       "  </tbody>\n",
       "</table>\n",
       "</div>"
      ],
      "text/plain": [
       "   SEVERITYCODE  VEHCOUNT                             JUNCTIONTYPE  \\\n",
       "0             2         2   At Intersection (intersection related)   \n",
       "1             1         2  Mid-Block (not related to intersection)   \n",
       "2             1         3  Mid-Block (not related to intersection)   \n",
       "3             1         3  Mid-Block (not related to intersection)   \n",
       "4             2         2   At Intersection (intersection related)   \n",
       "\n",
       "   SDOT_COLCODE  INATTENTIONIND  UNDERINFL   WEATHER ROADCOND  \\\n",
       "0            11               0          0  Overcast      Wet   \n",
       "1            16               0          0   Raining      Wet   \n",
       "2            14               0          0  Overcast      Dry   \n",
       "3            11               0          0     Clear      Dry   \n",
       "4            11               0          0   Raining      Wet   \n",
       "\n",
       "                 LIGHTCOND  SPEEDING ST_COLCODE  HITPARKEDCAR  \n",
       "0                 Daylight         0         10             0  \n",
       "1  Dark - Street Lights On         0         11             0  \n",
       "2                 Daylight         0         32             0  \n",
       "3                 Daylight         0         23             0  \n",
       "4                 Daylight         0         10             0  "
      ]
     },
     "execution_count": 250,
     "metadata": {},
     "output_type": "execute_result"
    }
   ],
   "source": [
    "df.head()"
   ]
  },
  {
   "cell_type": "markdown",
   "metadata": {},
   "source": [
    "## Data Processing of SEVERITYCODE(target variable)"
   ]
  },
  {
   "cell_type": "code",
   "execution_count": 251,
   "metadata": {},
   "outputs": [
    {
     "data": {
      "text/plain": [
       "count    167981.000000\n",
       "mean          1.330412\n",
       "std           0.470363\n",
       "min           1.000000\n",
       "25%           1.000000\n",
       "50%           1.000000\n",
       "75%           2.000000\n",
       "max           2.000000\n",
       "Name: SEVERITYCODE, dtype: float64"
      ]
     },
     "execution_count": 251,
     "metadata": {},
     "output_type": "execute_result"
    }
   ],
   "source": [
    "df['SEVERITYCODE'].describe()"
   ]
  },
  {
   "cell_type": "code",
   "execution_count": 252,
   "metadata": {},
   "outputs": [
    {
     "data": {
      "text/plain": [
       "<matplotlib.axes._subplots.AxesSubplot at 0x164b0250bc8>"
      ]
     },
     "execution_count": 252,
     "metadata": {},
     "output_type": "execute_result"
    },
    {
     "data": {
      "image/png": "[encoded data removed]",
      "text/plain": [
       "<Figure size 432x288 with 1 Axes>"
      ]
     },
     "metadata": {
      "needs_background": "light"
     },
     "output_type": "display_data"
    }
   ],
   "source": [
    "cnt_severitycode = df['SEVERITYCODE'].value_counts()\n",
    "cnt_severitycode.plot(kind='bar')"
   ]
  },
  {
   "cell_type": "markdown",
   "metadata": {},
   "source": [
    "## Exploratory Data Analysis"
   ]
  },
  {
   "cell_type": "markdown",
   "metadata": {},
   "source": [
    "### Relationship between speeding and serverity"
   ]
  },
  {
   "cell_type": "code",
   "execution_count": 253,
   "metadata": {},
   "outputs": [
    {
     "data": {
      "text/plain": [
       "SPEEDING  SEVERITYCODE\n",
       "0         1               106890\n",
       "          2                52050\n",
       "1         1                 5588\n",
       "          2                 3453\n",
       "Name: SEVERITYCODE, dtype: int64"
      ]
     },
     "execution_count": 253,
     "metadata": {},
     "output_type": "execute_result"
    },
    {
     "data": {
      "image/png": "[encoded data removed]",
      "text/plain": [
       "<Figure size 432x288 with 1 Axes>"
      ]
     },
     "metadata": {
      "needs_background": "light"
     },
     "output_type": "display_data"
    }
   ],
   "source": [
    "ax = sns.countplot(y=\"SPEEDING\", hue=\"SEVERITYCODE\", data=df)\n",
    "ax.set(xlabel='Number of Collisions', ylabel=\"SPEEDING,0/1\")\n",
    "df.groupby(['SPEEDING'])['SEVERITYCODE'].value_counts()"
   ]
  },
  {
   "cell_type": "markdown",
   "metadata": {},
   "source": [
    "### Relationship between junction yype and severity"
   ]
  },
  {
   "cell_type": "code",
   "execution_count": 254,
   "metadata": {},
   "outputs": [
    {
     "data": {
      "text/plain": [
       "JUNCTIONTYPE                                       SEVERITYCODE\n",
       "At Intersection (but not related to intersection)  1                1197\n",
       "                                                   2                 601\n",
       "At Intersection (intersection related)             1               33276\n",
       "                                                   2               26233\n",
       "Driveway Junction                                  1                6848\n",
       "                                                   2                3133\n",
       "Mid-Block (but intersection related)               1               14229\n",
       "                                                   2                6986\n",
       "Mid-Block (not related to intersection)            1               56823\n",
       "                                                   2               18498\n",
       "Ramp Junction                                      1                 105\n",
       "                                                   2                  52\n",
       "Name: SEVERITYCODE, dtype: int64"
      ]
     },
     "execution_count": 254,
     "metadata": {},
     "output_type": "execute_result"
    },
    {
     "data": {
      "image/png": "[encoded data removed]",
      "text/plain": [
       "<Figure size 432x288 with 1 Axes>"
      ]
     },
     "metadata": {
      "needs_background": "light"
     },
     "output_type": "display_data"
    }
   ],
   "source": [
    "ax = sns.countplot(y=\"JUNCTIONTYPE\", hue=\"SEVERITYCODE\", data=df)\n",
    "ax.set(xlabel='Number of Collisions', ylabel=\"Junction Type\")\n",
    "df.groupby(['JUNCTIONTYPE'])['SEVERITYCODE'].value_counts()"
   ]
  },
  {
   "cell_type": "markdown",
   "metadata": {},
   "source": [
    "### Relationship between weather and severity"
   ]
  },
  {
   "cell_type": "code",
   "execution_count": 255,
   "metadata": {},
   "outputs": [
    {
     "data": {
      "text/plain": [
       "WEATHER                   SEVERITYCODE\n",
       "Blowing Sand/Dirt         1                  30\n",
       "                          2                  13\n",
       "Clear                     1               71897\n",
       "                          2               35414\n",
       "Fog/Smog/Smoke            1                 361\n",
       "                          2                 183\n",
       "Other                     1                 172\n",
       "                          2                  78\n",
       "Overcast                  1               17981\n",
       "                          2                8585\n",
       "Partly Cloudy             2                   3\n",
       "                          1                   2\n",
       "Raining                   1               21280\n",
       "                          2               11029\n",
       "Severe Crosswind          1                  18\n",
       "                          2                   7\n",
       "Sleet/Hail/Freezing Rain  1                  83\n",
       "                          2                  27\n",
       "Snowing                   1                 654\n",
       "                          2                 164\n",
       "Name: SEVERITYCODE, dtype: int64"
      ]
     },
     "execution_count": 255,
     "metadata": {},
     "output_type": "execute_result"
    },
    {
     "data": {
      "image/png": "[encoded data removed]",
      "text/plain": [
       "<Figure size 432x288 with 1 Axes>"
      ]
     },
     "metadata": {
      "needs_background": "light"
     },
     "output_type": "display_data"
    }
   ],
   "source": [
    "ax = sns.countplot(y=\"WEATHER\", hue=\"SEVERITYCODE\", data=df)\n",
    "ax.set(xlabel='Number of Collisions', ylabel=\"Weather\")\n",
    "df.groupby(['WEATHER'])['SEVERITYCODE'].value_counts()"
   ]
  },
  {
   "cell_type": "markdown",
   "metadata": {},
   "source": [
    "### Relationship between road conditions and serverity"
   ]
  },
  {
   "cell_type": "code",
   "execution_count": 256,
   "metadata": {},
   "outputs": [
    {
     "data": {
      "text/plain": [
       "ROADCOND        SEVERITYCODE\n",
       "Dry             1               80410\n",
       "                2               39483\n",
       "Ice             1                 818\n",
       "                2                 262\n",
       "Oil             1                  34\n",
       "                2                  24\n",
       "Other           1                  63\n",
       "                2                  42\n",
       "Sand/Mud/Dirt   1                  40\n",
       "                2                  21\n",
       "Snow/Slush      1                 680\n",
       "                2                 156\n",
       "Standing Water  1                  75\n",
       "                2                  30\n",
       "Wet             1               30358\n",
       "                2               15485\n",
       "Name: SEVERITYCODE, dtype: int64"
      ]
     },
     "execution_count": 256,
     "metadata": {},
     "output_type": "execute_result"
    },
    {
     "data": {
      "image/png": "[encoded data removed]",
      "text/plain": [
       "<Figure size 432x288 with 1 Axes>"
      ]
     },
     "metadata": {
      "needs_background": "light"
     },
     "output_type": "display_data"
    }
   ],
   "source": [
    "ax = sns.countplot(y=\"ROADCOND\", hue=\"SEVERITYCODE\", data=df)\n",
    "ax.set(xlabel='Number of Collisions', ylabel=\"Road Condition\")\n",
    "df.groupby(['ROADCOND'])['SEVERITYCODE'].value_counts()"
   ]
  },
  {
   "cell_type": "markdown",
   "metadata": {},
   "source": [
    "### Relationship between light condition and severity"
   ]
  },
  {
   "cell_type": "code",
   "execution_count": 257,
   "metadata": {
    "scrolled": true
   },
   "outputs": [
    {
     "name": "stdout",
     "output_type": "stream",
     "text": [
      "LIGHTCOND                 SEVERITYCODE\n",
      "Dark - No Street Lights   1                1038\n",
      "                          2                 319\n",
      "Dark - Street Lights Off  1                 783\n",
      "                          2                 307\n",
      "Dark - Street Lights On   1               31935\n",
      "                          2               14207\n",
      "Dark - Unknown Lighting   1                   5\n",
      "                          2                   4\n",
      "Dawn                      1                1577\n",
      "                          2                 805\n",
      "Daylight                  1               73321\n",
      "                          2               37921\n",
      "Dusk                      1                3683\n",
      "                          2                1891\n",
      "Other                     1                 136\n",
      "                          2                  49\n",
      "Name: SEVERITYCODE, dtype: int64\n"
     ]
    },
    {
     "data": {
      "image/png": "[encoded data removed]",
      "text/plain": [
       "<Figure size 432x288 with 1 Axes>"
      ]
     },
     "metadata": {
      "needs_background": "light"
     },
     "output_type": "display_data"
    }
   ],
   "source": [
    "ax = sns.countplot(y=\"LIGHTCOND\", hue=\"SEVERITYCODE\", data=df)\n",
    "ax.set(xlabel='Number of Collisions', ylabel=\"Light Condition\")\n",
    "print(df.groupby(['LIGHTCOND'])['SEVERITYCODE'].value_counts())"
   ]
  },
  {
   "cell_type": "markdown",
   "metadata": {},
   "source": [
    "### Relationship between ST_COLCODE and SEVERITYCODE"
   ]
  },
  {
   "cell_type": "code",
   "execution_count": 258,
   "metadata": {
    "scrolled": true
   },
   "outputs": [
    {
     "data": {
      "text/plain": [
       "ST_COLCODE  SEVERITYCODE\n",
       "0           2               774\n",
       "            1                75\n",
       "1           2               325\n",
       "            1                35\n",
       "2           2               571\n",
       "                           ... \n",
       "84          2                20\n",
       "85          1                 1\n",
       "87          2                 1\n",
       "88          1                 5\n",
       "            2                 3\n",
       "Name: SEVERITYCODE, Length: 216, dtype: int64"
      ]
     },
     "execution_count": 258,
     "metadata": {},
     "output_type": "execute_result"
    },
    {
     "data": {
      "image/png": "[encoded data removed]",
      "text/plain": [
       "<Figure size 432x288 with 1 Axes>"
      ]
     },
     "metadata": {
      "needs_background": "light"
     },
     "output_type": "display_data"
    }
   ],
   "source": [
    "ax = sns.countplot(y=\"ST_COLCODE\", hue=\"SEVERITYCODE\", data=df)\n",
    "ax.set(xlabel='Number of Collisions', ylabel=\"ST_COLCODE\")\n",
    "df.groupby(['ST_COLCODE'])['SEVERITYCODE'].value_counts()\n"
   ]
  },
  {
   "cell_type": "markdown",
   "metadata": {},
   "source": [
    " ### Relationship between ADDRTYPE and severity"
   ]
  },
  {
   "cell_type": "code",
   "execution_count": 259,
   "metadata": {},
   "outputs": [],
   "source": [
    "#ax = sns.countplot(y=\"ADDRTYPE\", hue=\"SEVERITYCODE\", data=df)\n",
    "#ax.set(xlabel='Number of Collisions', ylabel=\"ADDRTYPE\")\n",
    "#df.groupby(['ADDRTYPE'])['SEVERITYCODE'].value_counts()\n"
   ]
  },
  {
   "cell_type": "markdown",
   "metadata": {},
   "source": [
    " ### Relationship between collision type and severity"
   ]
  },
  {
   "cell_type": "code",
   "execution_count": 260,
   "metadata": {},
   "outputs": [],
   "source": [
    "#ax = sns.countplot(y=\"COLLISIONTYPE\", hue=\"SEVERITYCODE\", data=df)\n",
    "#ax.set(xlabel='Number of Collisions', ylabel=\"COLLISIONTYPE\")\n",
    "#df.groupby(['COLLISIONTYPE'])['SEVERITYCODE'].value_counts()\n"
   ]
  },
  {
   "cell_type": "markdown",
   "metadata": {},
   "source": [
    "### Relationship between light conditions and serverity"
   ]
  },
  {
   "cell_type": "markdown",
   "metadata": {},
   "source": [
    "## Balancing the dataset"
   ]
  },
  {
   "cell_type": "code",
   "execution_count": 261,
   "metadata": {},
   "outputs": [],
   "source": [
    "#df.drop([\"INCDTTM\"],axis=1, inplace=True)\n",
    "\n",
    "df = pd.concat([df,pd.get_dummies(df['ST_COLCODE'])], axis=1)\n",
    "df.drop([\"ST_COLCODE\"],axis=1, inplace=True)\n",
    "\n",
    "df = pd.concat([df,pd.get_dummies(df['JUNCTIONTYPE'])], axis=1)\n",
    "df.drop([\"JUNCTIONTYPE\"],axis=1, inplace=True)\n",
    "\n",
    "df[\"WEATHER\"].replace(np.NaN, \"Clear\", inplace=True)\n",
    "df[\"WEATHER\"].replace(\"Other\", \"Unknown\", inplace=True)\n",
    "df[\"WEATHER\"].replace(\"Unknown\", \"Unknown Weather\", inplace=True)\n",
    "df[\"WEATHER\"].replace(\"Partly Cloudy\", \"Overcast\", inplace=True)\n",
    "\n",
    "#WEATHER is also one-hot encoded and its header is removed\n",
    "df = pd.concat([df,pd.get_dummies(df['WEATHER'])], axis=1)\n",
    "df.drop([\"WEATHER\"],axis=1, inplace=True)\n",
    "\n",
    "df[\"ROADCOND\"].replace(np.NaN, \"Dry\", inplace=True)\n",
    "df[\"ROADCOND\"].replace(\"Other\", \"Unknown\", inplace=True)\n",
    "df[\"ROADCOND\"].replace(\"Unknown\", \"Unknown Roadcond\", inplace=True)\n",
    "\n",
    "#ROADCOND is one-hot encoded for use in the ML Model with its header removed.\n",
    "df = pd.concat([df,pd.get_dummies(df['ROADCOND'])], axis=1)\n",
    "df.drop([\"ROADCOND\"],axis=1, inplace=True)\n",
    "df = pd.concat([df,pd.get_dummies(df['LIGHTCOND'])], axis=1)\n",
    "df.drop(['LIGHTCOND'],axis=1, inplace=True)"
   ]
  },
  {
   "cell_type": "code",
   "execution_count": 262,
   "metadata": {},
   "outputs": [
    {
     "data": {
      "text/plain": [
       "array(['SEVERITYCODE', 'VEHCOUNT', 'SDOT_COLCODE', 'INATTENTIONIND',\n",
       "       'UNDERINFL', 'SPEEDING', 'HITPARKEDCAR', 0, 1, 2, 3, 4, 10, 11, 12,\n",
       "       13, 14, 15, 16, 19, 20, 21, 22, 23, 24, 25, 26, 27, 28, 29, 30, 31,\n",
       "       32, 40, 41, 42, 43, 45, 48, 50, 51, 52, 53, 54, 56, 57, 64, 65, 66,\n",
       "       67, 71, 72, 73, 74, 81, 82, 83, 84, 87, ' ', '0', '1', '10', '11',\n",
       "       '12', '13', '14', '15', '16', '17', '18', '19', '2', '20', '21',\n",
       "       '22', '23', '24', '25', '26', '27', '28', '29', '3', '30', '31',\n",
       "       '32', '4', '40', '41', '42', '43', '45', '48', '49', '5', '50',\n",
       "       '51', '52', '53', '54', '56', '57', '6', '60', '64', '65', '66',\n",
       "       '67', '7', '71', '72', '73', '74', '8', '81', '82', '83', '84',\n",
       "       '85', '87', '88',\n",
       "       'At Intersection (but not related to intersection)',\n",
       "       'At Intersection (intersection related)', 'Driveway Junction',\n",
       "       'Mid-Block (but intersection related)',\n",
       "       'Mid-Block (not related to intersection)', 'Ramp Junction',\n",
       "       'Blowing Sand/Dirt', 'Clear', 'Fog/Smog/Smoke', 'Overcast',\n",
       "       'Raining', 'Severe Crosswind', 'Sleet/Hail/Freezing Rain',\n",
       "       'Snowing', 'Unknown Weather', 'Dry', 'Ice', 'Oil', 'Sand/Mud/Dirt',\n",
       "       'Snow/Slush', 'Standing Water', 'Unknown Roadcond', 'Wet',\n",
       "       'Dark - No Street Lights', 'Dark - Street Lights Off',\n",
       "       'Dark - Street Lights On', 'Dark - Unknown Lighting', 'Dawn',\n",
       "       'Daylight', 'Dusk', 'Other'], dtype=object)"
      ]
     },
     "execution_count": 262,
     "metadata": {},
     "output_type": "execute_result"
    }
   ],
   "source": [
    "df.columns.values"
   ]
  },
  {
   "cell_type": "code",
   "execution_count": 221,
   "metadata": {},
   "outputs": [
    {
     "name": "stdout",
     "output_type": "stream",
     "text": [
      "2    55503\n",
      "1    55503\n",
      "Name: SEVERITYCODE, dtype: int64\n",
      "   VEHCOUNT  SDOT_COLCODE  INATTENTIONIND  UNDERINFL  SPEEDING  HITPARKEDCAR  \\\n",
      "0         2            11               0          0         0             0   \n",
      "1         2            11               0          0         0             0   \n",
      "2         2            11               0          0         0             0   \n",
      "3         1            26               0          0         0             0   \n",
      "4         2            11               0          0         0             0   \n",
      "\n",
      "   0  1  2  3  ...  Unknown Roadcond  Wet  Dark - No Street Lights  \\\n",
      "0  0  0  0  0  ...                 0    0                        0   \n",
      "1  0  0  0  0  ...                 0    1                        0   \n",
      "2  0  0  0  0  ...                 0    0                        0   \n",
      "3  0  0  0  0  ...                 0    1                        0   \n",
      "4  0  0  0  0  ...                 0    0                        0   \n",
      "\n",
      "   Dark - Street Lights Off  Dark - Street Lights On  Dark - Unknown Lighting  \\\n",
      "0                         0                        0                        0   \n",
      "1                         0                        1                        0   \n",
      "2                         0                        0                        0   \n",
      "3                         0                        0                        0   \n",
      "4                         0                        1                        0   \n",
      "\n",
      "   Dawn  Daylight  Dusk  Other  \n",
      "0     0         1     0      0  \n",
      "1     0         0     0      0  \n",
      "2     0         0     1      0  \n",
      "3     0         1     0      0  \n",
      "4     0         0     0      0  \n",
      "\n",
      "[5 rows x 152 columns]\n"
     ]
    }
   ],
   "source": [
    "from imblearn.under_sampling import RandomUnderSampler\n",
    "import imblearn\n",
    "\n",
    "x = df[['VEHCOUNT', 'SDOT_COLCODE', 'INATTENTIONIND',\n",
    "       'UNDERINFL', 'SPEEDING', 'HITPARKEDCAR', 0, 1, 2, 3, 4, 10, 11, 12,\n",
    "       13, 14, 15, 16, 19, 20, 21, 22, 23, 24, 25, 26, 27, 28, 29, 30, 31,\n",
    "       32, 40, 41, 42, 43, 45, 48, 50, 51, 52, 53, 54, 56, 57, 64, 65, 66,\n",
    "       67, 71, 72, 73, 74, 81, 82, 83, 84, 87, ' ', '0', '1', '10', '11',\n",
    "       '12', '13', '14', '15', '16', '17', '18', '19', '2', '20', '21',\n",
    "       '22', '23', '24', '25', '26', '27', '28', '29', '3', '30', '31',\n",
    "       '32', '4', '40', '41', '42', '43', '45', '48', '49', '5', '50',\n",
    "       '51', '52', '53', '54', '56', '57', '6', '60', '64', '65', '66',\n",
    "       '67', '7', '71', '72', '73', '74', '8', '81', '82', '83', '84',\n",
    "       '85', '87', '88',\n",
    "       'At Intersection (but not related to intersection)',\n",
    "       'At Intersection (intersection related)', 'Driveway Junction',\n",
    "       'Mid-Block (but intersection related)',\n",
    "       'Mid-Block (not related to intersection)', 'Ramp Junction',\n",
    "       'Blowing Sand/Dirt', 'Clear', 'Fog/Smog/Smoke', 'Overcast',\n",
    "       'Raining', 'Severe Crosswind', 'Sleet/Hail/Freezing Rain',\n",
    "       'Snowing', 'Unknown Weather', 'Dry', 'Ice', 'Oil', 'Sand/Mud/Dirt',\n",
    "       'Snow/Slush', 'Standing Water', 'Unknown Roadcond', 'Wet',\n",
    "       'Dark - No Street Lights', 'Dark - Street Lights Off',\n",
    "       'Dark - Street Lights On', 'Dark - Unknown Lighting', 'Dawn',\n",
    "       'Daylight', 'Dusk', 'Other']]\n",
    "\n",
    "y = df['SEVERITYCODE']\n",
    "\n",
    "\n",
    "#Use random under sampling (RUS) method such that the resulting numbers of each severity class are equal.\n",
    "#RUS randomly removes samples from the majority class (in this case SEVERITYCODE = 1) such that the number present\n",
    "#equal that of the minority class SEVERITYCODE = 2 such that they are now equal.\n",
    "RUS = RandomUnderSampler(random_state=12)\n",
    "x_resampled, y_resampled = RUS.fit_resample(x, y)\n",
    "\n",
    "#printing off the new value counts.\n",
    "print(y_resampled.value_counts())\n",
    "print(x_resampled[0:5])"
   ]
  },
  {
   "cell_type": "markdown",
   "metadata": {},
   "source": [
    "## Modeling"
   ]
  },
  {
   "cell_type": "code",
   "execution_count": 222,
   "metadata": {
    "scrolled": true
   },
   "outputs": [
    {
     "data": {
      "text/plain": [
       "array([[ 0.07326911, -0.55330685, -0.45624864, -0.24216063, -0.24332581,\n",
       "        -0.14773415, -0.08616076, -0.05583574, -0.07322321, -0.0268552 ,\n",
       "        -0.01273498, -0.27031692, -0.14219519, -0.06436611, -0.11962111,\n",
       "        -0.24130477, -0.07548941, -0.07158879, -0.0381114 , -0.06658639,\n",
       "        -0.07190593, -0.08286299, -0.08637273, -0.03799268, -0.0143958 ,\n",
       "        -0.04063597, -0.01991311, -0.14789324, -0.02143935, -0.04901044,\n",
       "        -0.00671153, -0.23151177, -0.01308401, -0.01082241, -0.00424469,\n",
       "         0.        , -0.11468221, -0.00671153, -0.1548064 , -0.02325519,\n",
       "        -0.0491027 , -0.00735215,  0.        , -0.00600295, -0.01530609,\n",
       "        -0.01342397, -0.00519868, -0.00600295, -0.00424469, -0.04237824,\n",
       "        -0.01082241, -0.01850516, -0.03149477, -0.0355357 , -0.00519868,\n",
       "        -0.01200655, -0.01500879, -0.00300143, -0.00300143, -0.12641294,\n",
       "        -0.08141795,  2.4372205 , -0.20918973, -0.08308314, -0.18218292,\n",
       "        -0.33975933, -0.10554695, -0.10086622, -0.00794126, -0.00424469,\n",
       "        -0.04654815, -0.11444008, -0.0975323 , -0.06308346, -0.07378072,\n",
       "        -0.12385081, -0.05326068, -0.02420531, -0.06066268, -0.02864347,\n",
       "        -0.21434471, -0.03032679, -0.03344108, -0.07334746, -0.01162524,\n",
       "        -0.3103247 , -0.02617473, -0.01945511, -0.01588403, -0.00600295,\n",
       "         0.        , -0.16065556, -0.00995508, -0.00300143, -0.05767289,\n",
       "        -0.22097363, -0.03566254, -0.06257767, -0.01200655, -0.00424469,\n",
       "        -0.01237612, -0.02101458, -0.04645086,  0.        , -0.00735215,\n",
       "        -0.00300143, -0.00424469, -0.00519868, -0.01273498, -0.05930125,\n",
       "        -0.01530609, -0.0245751 , -0.03178008, -0.0140793 , -0.05205651,\n",
       "        -0.01123099, -0.01750382, -0.01825997,  0.        , -0.00300143,\n",
       "        -0.00735215, -0.10378766,  1.26271405, -0.24849619, -0.38000467,\n",
       "        -0.84836125, -0.03248244, -0.01559773,  0.75111235, -0.05648144,\n",
       "        -0.43086525, -0.49077382, -0.01200655, -0.02529851, -0.06610697,\n",
       "        -0.03799268,  0.63411695, -0.07786683, -0.01801144, -0.01850516,\n",
       "        -0.06644976, -0.02565258, -0.02751888, -0.61477362, -0.08578858,\n",
       "        -0.07925985, -0.60776589, -0.00794126, -0.11969857,  0.70524437,\n",
       "        -0.18664847, -0.03192178],\n",
       "       [ 0.07326911, -0.55330685, -0.45624864, -0.24216063, -0.24332581,\n",
       "        -0.14773415, -0.08616076, -0.05583574, -0.07322321, -0.0268552 ,\n",
       "        -0.01273498, -0.27031692, -0.14219519, -0.06436611, -0.11962111,\n",
       "        -0.24130477, -0.07548941, -0.07158879, -0.0381114 , -0.06658639,\n",
       "        -0.07190593, -0.08286299, -0.08637273, -0.03799268, -0.0143958 ,\n",
       "        -0.04063597, -0.01991311, -0.14789324, -0.02143935, -0.04901044,\n",
       "        -0.00671153, -0.23151177, -0.01308401, -0.01082241, -0.00424469,\n",
       "         0.        , -0.11468221, -0.00671153, -0.1548064 , -0.02325519,\n",
       "        -0.0491027 , -0.00735215,  0.        , -0.00600295, -0.01530609,\n",
       "        -0.01342397, -0.00519868, -0.00600295, -0.00424469, -0.04237824,\n",
       "        -0.01082241, -0.01850516, -0.03149477, -0.0355357 , -0.00519868,\n",
       "        -0.01200655, -0.01500879, -0.00300143, -0.00300143, -0.12641294,\n",
       "        -0.08141795,  2.4372205 , -0.20918973, -0.08308314, -0.18218292,\n",
       "        -0.33975933, -0.10554695, -0.10086622, -0.00794126, -0.00424469,\n",
       "        -0.04654815, -0.11444008, -0.0975323 , -0.06308346, -0.07378072,\n",
       "        -0.12385081, -0.05326068, -0.02420531, -0.06066268, -0.02864347,\n",
       "        -0.21434471, -0.03032679, -0.03344108, -0.07334746, -0.01162524,\n",
       "        -0.3103247 , -0.02617473, -0.01945511, -0.01588403, -0.00600295,\n",
       "         0.        , -0.16065556, -0.00995508, -0.00300143, -0.05767289,\n",
       "        -0.22097363, -0.03566254, -0.06257767, -0.01200655, -0.00424469,\n",
       "        -0.01237612, -0.02101458, -0.04645086,  0.        , -0.00735215,\n",
       "        -0.00300143, -0.00424469, -0.00519868, -0.01273498, -0.05930125,\n",
       "        -0.01530609, -0.0245751 , -0.03178008, -0.0140793 , -0.05205651,\n",
       "        -0.01123099, -0.01750382, -0.01825997,  0.        , -0.00300143,\n",
       "        -0.00735215, -0.10378766, -0.79194494, -0.24849619, -0.38000467,\n",
       "         1.17874314, -0.03248244, -0.01559773, -1.33135875, -0.05648144,\n",
       "         2.32091126, -0.49077382, -0.01200655, -0.02529851, -0.06610697,\n",
       "        -0.03799268, -1.57699617, -0.07786683, -0.01801144, -0.01850516,\n",
       "        -0.06644976, -0.02565258, -0.02751888,  1.62661503, -0.08578858,\n",
       "        -0.07925985,  1.6453704 , -0.00794126, -0.11969857, -1.41794821,\n",
       "        -0.18664847, -0.03192178]])"
      ]
     },
     "execution_count": 222,
     "metadata": {},
     "output_type": "execute_result"
    }
   ],
   "source": [
    "from sklearn.model_selection import train_test_split\n",
    "from sklearn import preprocessing\n",
    "\n",
    "x_prp = preprocessing.StandardScaler().fit(x_resampled).transform(x_resampled)\n",
    "x_prp[0:2]"
   ]
  },
  {
   "cell_type": "code",
   "execution_count": 223,
   "metadata": {},
   "outputs": [
    {
     "name": "stdout",
     "output_type": "stream",
     "text": [
      "Train set: (134384, 152) (134384,)\n",
      "Test set: (33597, 152) (33597,)\n"
     ]
    }
   ],
   "source": [
    "from sklearn.model_selection import train_test_split\n",
    "X_train, X_test, y_train, y_test = train_test_split( x, y, test_size=0.2, random_state=4)\n",
    "print ('Train set:', X_train.shape,  y_train.shape)\n",
    "print ('Test set:', X_test.shape,  y_test.shape)"
   ]
  },
  {
   "cell_type": "markdown",
   "metadata": {},
   "source": [
    "### Logistic Regression"
   ]
  },
  {
   "cell_type": "code",
   "execution_count": 224,
   "metadata": {},
   "outputs": [
    {
     "data": {
      "text/plain": [
       "array([2, 1, 1, ..., 1, 1, 1], dtype=int64)"
      ]
     },
     "execution_count": 224,
     "metadata": {},
     "output_type": "execute_result"
    }
   ],
   "source": [
    "from sklearn.linear_model import LogisticRegression\n",
    "from sklearn.metrics import confusion_matrix\n",
    "LR = LogisticRegression(C=0.05).fit(X_train,y_train)\n",
    "yhat = LR.predict(X_test)\n",
    "yhat"
   ]
  },
  {
   "cell_type": "code",
   "execution_count": 225,
   "metadata": {},
   "outputs": [
    {
     "data": {
      "text/plain": [
       "array([[0.21455623, 0.78544377],\n",
       "       [0.55680775, 0.44319225],\n",
       "       [0.5452639 , 0.4547361 ],\n",
       "       ...,\n",
       "       [0.63097897, 0.36902103],\n",
       "       [0.52227136, 0.47772864],\n",
       "       [0.86935019, 0.13064981]])"
      ]
     },
     "execution_count": 225,
     "metadata": {},
     "output_type": "execute_result"
    }
   ],
   "source": [
    "yhat_prob = LR.predict_proba(X_test)\n",
    "yhat_prob"
   ]
  },
  {
   "cell_type": "code",
   "execution_count": 226,
   "metadata": {},
   "outputs": [
    {
     "name": "stdout",
     "output_type": "stream",
     "text": [
      "The jaccard score is:  0.7034376435084957\n",
      "The F-1 score is:  0.6878933101422043\n"
     ]
    }
   ],
   "source": [
    "from sklearn.metrics import jaccard_score\n",
    "from sklearn.metrics import f1_score\n",
    "from sklearn.metrics import log_loss\n",
    "\n",
    "jaccard_score_LR = jaccard_score(y_test, yhat)\n",
    "f1_score_LR = f1_score(y_test, yhat, average='weighted')\n",
    "\n",
    "print('The jaccard score is: ',jaccard_score_LR)\n",
    "print('The F-1 score is: ',f1_score_LR)"
   ]
  },
  {
   "cell_type": "markdown",
   "metadata": {},
   "source": [
    "### Decision Tree"
   ]
  },
  {
   "cell_type": "code",
   "execution_count": 227,
   "metadata": {},
   "outputs": [
    {
     "name": "stdout",
     "output_type": "stream",
     "text": [
      "Train set: (134384, 152) (134384,)\n",
      "Test set: (33597, 152) (33597,)\n"
     ]
    }
   ],
   "source": [
    "X_train_DT, X_test_DT, y_train_DT, y_test_DT = train_test_split( x, y, test_size=0.2, random_state=4)\n",
    "print ('Train set:', X_train_DT.shape,  y_train_DT.shape)\n",
    "print ('Test set:', X_test_DT.shape,  y_test_DT.shape)"
   ]
  },
  {
   "cell_type": "code",
   "execution_count": 228,
   "metadata": {},
   "outputs": [
    {
     "data": {
      "text/plain": [
       "DecisionTreeClassifier(criterion='entropy', max_depth=8)"
      ]
     },
     "execution_count": 228,
     "metadata": {},
     "output_type": "execute_result"
    }
   ],
   "source": [
    "from sklearn.tree import DecisionTreeClassifier\n",
    "\n",
    "drugTree = DecisionTreeClassifier(criterion=\"entropy\", max_depth = 8)\n",
    "drugTree # it shows the default parameters"
   ]
  },
  {
   "cell_type": "code",
   "execution_count": 229,
   "metadata": {},
   "outputs": [],
   "source": [
    "drugTree.fit(X_train_DT,y_train_DT)\n",
    "\n",
    "predTree_DT = drugTree.predict(X_test_DT) #prediction\n"
   ]
  },
  {
   "cell_type": "code",
   "execution_count": 230,
   "metadata": {},
   "outputs": [
    {
     "name": "stdout",
     "output_type": "stream",
     "text": [
      "DecisionTrees's Accuracy:  0.7314045896955085\n",
      "The jaccard score is:  0.7024531785808494\n",
      "The F-1 score is:  0.691554267748142\n"
     ]
    }
   ],
   "source": [
    "from sklearn import metrics\n",
    "\n",
    "print(\"DecisionTrees's Accuracy: \", metrics.accuracy_score(y_test_DT, predTree_DT))\n",
    "jaccard_score_DT = jaccard_score(y_test_DT,predTree_DT)\n",
    "f1_score_DT = f1_score(y_test_DT, predTree_DT, average = 'weighted')\n",
    "print('The jaccard score is: ',jaccard_score_DT)\n",
    "print('The F-1 score is: ',f1_score_DT)"
   ]
  },
  {
   "cell_type": "markdown",
   "metadata": {},
   "source": [
    "### K-Nearest Neighbour(KNN)"
   ]
  },
  {
   "cell_type": "code",
   "execution_count": 45,
   "metadata": {},
   "outputs": [
    {
     "name": "stdout",
     "output_type": "stream",
     "text": [
      "Loading: 100.0%\r"
     ]
    },
    {
     "data": {
      "text/plain": [
       "array([0.        , 0.        , 0.        , 0.        , 0.        ,\n",
       "       0.        , 0.        , 0.        , 0.        , 0.        ,\n",
       "       0.        , 0.        , 0.        , 0.        , 0.72265253,\n",
       "       0.72575071, 0.72259295, 0.72417183, 0.72125238, 0.72560176,\n",
       "       0.72098427, 0.72512512, 0.72321854, 0.72634652])"
      ]
     },
     "execution_count": 45,
     "metadata": {},
     "output_type": "execute_result"
    }
   ],
   "source": [
    "# finding a good K for the KNN model\n",
    "from sklearn.neighbors import KNeighborsClassifier\n",
    "from sklearn import metrics\n",
    "\n",
    "Ks = 25\n",
    "mean_acc = np.zeros((Ks-1))\n",
    "std_acc = np.zeros((Ks-1))\n",
    "\n",
    "#We create Ks-15 classifiers, and test the accuracy of each classifer for each value of n neighbours.\n",
    "#We print the mean accuracy for all classifiers and save the one with the best accuracy.\n",
    "numTestsPerformed = 0\n",
    "for n in range(15,Ks):\n",
    "    neigh = KNeighborsClassifier(n_neighbors=n).fit(X_train, y_train)\n",
    "    yhat = neigh.predict(X_test)\n",
    "    mean_acc[n-1] = metrics.accuracy_score(y_test, yhat)\n",
    "    std_acc[n-1] = np.std(yhat==y_test)/np.sqrt(yhat.shape[0])\n",
    "    \n",
    "    #Creating and testing numerous classifiers takes time, a loading bar is therefore created and displayed\n",
    "    numTestsPerformed = numTestsPerformed + 1\n",
    "    print(\"Loading: \" + str(round(((numTestsPerformed / 10) * 100), 2)) + \"%\", end=\"\\r\")\n",
    "mean_acc"
   ]
  },
  {
   "cell_type": "code",
   "execution_count": 46,
   "metadata": {},
   "outputs": [
    {
     "data": {
      "image/png": "[encoded data removed]",
      "text/plain": [
       "<Figure size 432x288 with 1 Axes>"
      ]
     },
     "metadata": {
      "needs_background": "light"
     },
     "output_type": "display_data"
    },
    {
     "name": "stdout",
     "output_type": "stream",
     "text": [
      "The best general accuracy was at 0.7263465204957102 with k= 24\n"
     ]
    }
   ],
   "source": [
    "# Visualize k-value over accuracy\n",
    "plt.plot(range(15,Ks),mean_acc[14:25])\n",
    "plt.fill_between(range(15,Ks),mean_acc[14:25] - 1 * std_acc[14:25],mean_acc[14:25] + 1 * std_acc[14:25], alpha=0.10)\n",
    "\n",
    "#Plotting line graph displaying the accuracy of the classifier with each value K = n neighbours.\n",
    "plt.legend(('Accuracy', '+/- 3xstd'))\n",
    "plt.ylabel('Accuracy')\n",
    "plt.xlabel('Number of Neighbors (K)')\n",
    "plt.tight_layout()\n",
    "plt.show()\n",
    "\n",
    "#Print classifier with the best accuracy.\n",
    "print( \"The best general accuracy was at\", mean_acc.max(), \"with k=\", mean_acc.argmax()+1)"
   ]
  },
  {
   "cell_type": "code",
   "execution_count": 48,
   "metadata": {},
   "outputs": [
    {
     "name": "stdout",
     "output_type": "stream",
     "text": [
      "Accuracy Score:  0.7232185414680649\n",
      "Jaccard Score:  0.6848799348799349\n",
      "F1 Score:  0.6992675464903947\n"
     ]
    }
   ],
   "source": [
    "# build final KNN model\n",
    "k = 24\n",
    "KNN = KNeighborsClassifier(n_neighbors = k).fit(X_train,y_train)\n",
    "y_hat = KNN.predict(X_test)\n",
    "\n",
    "# full evalution\n",
    "from sklearn.metrics import jaccard_score\n",
    "from sklearn.metrics import f1_score\n",
    "\n",
    "#Printing off evaluation metrics for K-NN classifier\n",
    "acc1 = metrics.accuracy_score(y_test, y_hat)\n",
    "jc1 = jaccard_score(y_test, y_hat)\n",
    "fs1 = f1_score(y_test, y_hat, average='weighted')\n",
    "print(\"Accuracy Score: \", acc1)\n",
    "print(\"Jaccard Score: \", jc1)\n",
    "print(\"F1 Score: \", fs1)"
   ]
  },
  {
   "cell_type": "code",
   "execution_count": 263,
   "metadata": {},
   "outputs": [],
   "source": [
    "MLlist = ['KNN','DT','LR']\n",
    "jaccard = [jc1,\n",
    "          jaccard_score_DT,\n",
    "          jaccard_score_LR]\n",
    "\n",
    "f_1 = [fs1, f1_score_DT, f1_score_LR]"
   ]
  },
  {
   "cell_type": "code",
   "execution_count": 264,
   "metadata": {},
   "outputs": [],
   "source": [
    "df_result = pd.DataFrame({'Model': MLlist, 'Jaccard' : jaccard,'f1_Score':f_1})"
   ]
  },
  {
   "cell_type": "code",
   "execution_count": 265,
   "metadata": {},
   "outputs": [
    {
     "data": {
      "text/html": [
       "<div>\n",
       "<style scoped>\n",
       "    .dataframe tbody tr th:only-of-type {\n",
       "        vertical-align: middle;\n",
       "    }\n",
       "\n",
       "    .dataframe tbody tr th {\n",
       "        vertical-align: top;\n",
       "    }\n",
       "\n",
       "    .dataframe thead th {\n",
       "        text-align: right;\n",
       "    }\n",
       "</style>\n",
       "<table border=\"1\" class=\"dataframe\">\n",
       "  <thead>\n",
       "    <tr style=\"text-align: right;\">\n",
       "      <th></th>\n",
       "      <th>Model</th>\n",
       "      <th>Jaccard</th>\n",
       "      <th>f1_Score</th>\n",
       "    </tr>\n",
       "  </thead>\n",
       "  <tbody>\n",
       "    <tr>\n",
       "      <th>0</th>\n",
       "      <td>KNN</td>\n",
       "      <td>0.684880</td>\n",
       "      <td>0.699268</td>\n",
       "    </tr>\n",
       "    <tr>\n",
       "      <th>1</th>\n",
       "      <td>DT</td>\n",
       "      <td>0.702453</td>\n",
       "      <td>0.691554</td>\n",
       "    </tr>\n",
       "    <tr>\n",
       "      <th>2</th>\n",
       "      <td>LR</td>\n",
       "      <td>0.703438</td>\n",
       "      <td>0.687893</td>\n",
       "    </tr>\n",
       "  </tbody>\n",
       "</table>\n",
       "</div>"
      ],
      "text/plain": [
       "  Model   Jaccard  f1_Score\n",
       "0   KNN  0.684880  0.699268\n",
       "1    DT  0.702453  0.691554\n",
       "2    LR  0.703438  0.687893"
      ]
     },
     "execution_count": 265,
     "metadata": {},
     "output_type": "execute_result"
    }
   ],
   "source": [
    "df_result"
   ]
  },
  {
   "cell_type": "code",
   "execution_count": null,
   "metadata": {},
   "outputs": [],
   "source": []
  }
 ],
 "metadata": {
  "kernelspec": {
   "display_name": "Python 3",
   "language": "python",
   "name": "python3"
  },
  "language_info": {
   "codemirror_mode": {
    "name": "ipython",
    "version": 3
   },
   "file_extension": ".py",
   "mimetype": "text/x-python",
   "name": "python",
   "nbconvert_exporter": "python",
   "pygments_lexer": "ipython3",
   "version": "3.7.6"
  }
 },
 "nbformat": 4,
 "nbformat_minor": 4
}
